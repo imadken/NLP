{
 "cells": [
  {
   "cell_type": "code",
   "execution_count": 4,
   "metadata": {},
   "outputs": [],
   "source": [
    "import spacy\n",
    "from spacy.lang.en.stop_words import STOP_WORDS\n",
    "from nltk.stem import PorterStemmer\n",
    "from collections import Counter"
   ]
  },
  {
   "cell_type": "code",
   "execution_count": 5,
   "metadata": {},
   "outputs": [],
   "source": [
    "#model\n",
    "nlp = spacy.load('en_core_web_sm')\n",
    "\n",
    "#Stemmer\n",
    "stemmer = PorterStemmer()\n"
   ]
  },
  {
   "cell_type": "code",
   "execution_count": 9,
   "metadata": {},
   "outputs": [],
   "source": [
    "\n",
    "def preprocess_text(text,freq_threshold = 7, rare_threshold = 2):\n",
    "   \n",
    "    text = text.lower()\n",
    "    \n",
    "    doc = nlp(text)\n",
    "\n",
    "    #punctuation and stopwords\n",
    "    # tokens = [token.text for token in doc if not token.is_punct and if not token.is_punct token.text not in STOP_WORDS]\n",
    "    tokens = [token.text for token in doc if not token.is_punct and  not token.is_stop]\n",
    "\n",
    "    \n",
    "    word_freq = Counter(tokens)\n",
    "\n",
    "\n",
    "\n",
    "    #frequent/rare words\n",
    "    tokens = [token for token in tokens if freq_threshold > word_freq[token] > rare_threshold]\n",
    "\n",
    "    # Stemming \n",
    "    tokens = [stemmer.stem(token) for token in tokens]\n",
    "\n",
    "    # Lemmatization\n",
    "    tokens = [token.lemma_ for token in nlp(\" \".join(tokens))]\n",
    "    # tokens = [token.lemma_ for token in tokens]\n",
    "\n",
    "\n",
    "    return tokens\n",
    "\n",
    "\n"
   ]
  },
  {
   "cell_type": "markdown",
   "metadata": {},
   "source": [
    "test text"
   ]
  },
  {
   "cell_type": "code",
   "execution_count": 7,
   "metadata": {},
   "outputs": [],
   "source": [
    "complete_text = (\n",
    "     \"Gus Proto is a Python developer currently\"\n",
    "     \" working for a London-based Fintech company. He is\"\n",
    "     \" interested in learning Natural Language Processing.\"\n",
    "     \" There is a developer conference happening on 21 July\"\n",
    "     ' 2019 in London. It is titled \"Applications of Natural'\n",
    "     ' Language Processing\". There is a helpline number'\n",
    "     \" available at +44-1234567891. Gus is helping organize it.\"\n",
    "     \" He keeps organizing local Python meetups and several\"\n",
    "     \" internal talks at his workplace. Gus is also presenting\"\n",
    "     ' a talk. The talk will introduce the reader about \"Use'\n",
    "     ' cases of Natural Language Processing in Fintech\".'\n",
    "     \" Apart from his work, he is very passionate about music.\"\n",
    "     \" Gus is learning to play the Piano. He has enrolled\"\n",
    "     \" himself in the weekend batch of Great Piano Academy.\"\n",
    "     \" Great Piano Academy is situated in Mayfair or the City\"\n",
    "     \" of London and has world-class piano instructors.\"\n",
    " )"
   ]
  },
  {
   "cell_type": "code",
   "execution_count": 10,
   "metadata": {},
   "outputs": [
    {
     "name": "stdout",
     "output_type": "stream",
     "text": [
      "['gu', 'london', 'natur', 'languag', 'process', 'london', 'natur', 'languag', 'process', 'gu', 'gu', 'natur', 'languag', 'process', 'gu', 'piano', 'piano', 'piano', 'london', 'piano']\n"
     ]
    }
   ],
   "source": [
    "tokens = preprocess_text(complete_text)\n",
    "print(tokens)"
   ]
  }
 ],
 "metadata": {
  "kernelspec": {
   "display_name": "Python 3",
   "language": "python",
   "name": "python3"
  },
  "language_info": {
   "codemirror_mode": {
    "name": "ipython",
    "version": 3
   },
   "file_extension": ".py",
   "mimetype": "text/x-python",
   "name": "python",
   "nbconvert_exporter": "python",
   "pygments_lexer": "ipython3",
   "version": "3.9.1"
  }
 },
 "nbformat": 4,
 "nbformat_minor": 2
}
