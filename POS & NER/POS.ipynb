{
 "cells": [
  {
   "cell_type": "code",
   "execution_count": 1,
   "metadata": {},
   "outputs": [],
   "source": [
    "import random\n",
    "import spacy\n",
    "from spacy.training.example import Example\n",
    "from tqdm import tqdm"
   ]
  },
  {
   "cell_type": "code",
   "execution_count": 2,
   "metadata": {},
   "outputs": [],
   "source": [
    "TRAIN_DATA = [\n",
    "    (\"Cats are fascinating creatures with a wide range of behaviors.\", ['NNS', 'AUX', 'ADJ', 'NNS', 'ADP', 'DET', 'ADJ', 'NOUN', 'ADP', 'NNS', 'PUNCT']),\n",
    "    (\"I bought three pillows for my new couch.\", ['PRON', 'VERB', 'NUM', 'NNS', 'ADP', 'PRON', 'ADJ', 'NOUN', 'PUNCT']),\n",
    "    (\"The dogs chased the squirrels up the tree.\", ['DET', 'NNS', 'VERB', 'DET', 'NOUN', 'ADP', 'DET', 'NOUN', 'PUNCT']),\n",
    "    (\"She collected seashells on the beach during her vacation.\", ['PRON', 'VERB', 'NNS', 'ADP', 'DET', 'NOUN', 'ADP', 'PRON', 'NOUN', 'PUNCT']),\n",
    "    (\"Children love to play with colorful balloons at parties.\", ['NOUN', 'VERB', 'PART', 'VERB', 'ADP', 'ADJ', 'NNS', 'ADP', 'NNS', 'PUNCT']),\n",
    "    (\"The shelves were filled with books of different genres.\", ['DET', 'NNS', 'AUX', 'VERB', 'ADP', 'NNS', 'ADP', 'ADJ', 'NNS', 'PUNCT']),\n",
    "    (\"Bees are essential pollinators for many types of flowers,\", ['NNS', 'AUX', 'ADJ', 'NNS', 'ADP', 'ADJ', 'NNS', 'ADP', 'NNS','PUNCT']),\n",
    "    (\"The cat is sleeping on the windowsill,\", ['DET', 'NOUN', 'AUX', 'VERB', 'ADP', 'DET', 'NOUN', 'PUNCT']),\n",
    "    (\"A book on the shelf caught my attention\", ['DET', 'NOUN', 'ADP', 'DET', 'NOUN', 'VERB', 'PRON', 'NOUN']),\n",
    "    (\"Farmers grow various crops, such as wheat, corn, and soybeans.\", ['NOUN', 'VERB', 'ADJ', 'NNS', 'PUNCT', 'ADJ', 'ADP', 'NOUN', 'PUNCT', 'NOUN', 'PUNCT', 'CCONJ', 'NNS', 'PUNCT']),\n",
    "]\n"
   ]
  },
  {
   "cell_type": "code",
   "execution_count": 3,
   "metadata": {},
   "outputs": [
    {
     "name": "stderr",
     "output_type": "stream",
     "text": [
      "c:\\Users\\pc\\AppData\\Local\\Programs\\Python\\Python39\\lib\\site-packages\\tqdm\\auto.py:21: TqdmWarning: IProgress not found. Please update jupyter and ipywidgets. See https://ipywidgets.readthedocs.io/en/stable/user_install.html\n",
      "  from .autonotebook import tqdm as notebook_tqdm\n"
     ]
    }
   ],
   "source": [
    "# Create a blank English spaCy model.\n",
    "nlp = spacy.blank(\"en\")\n",
    "\n",
    "# Add the POS tagger component to the pipeline.\n",
    "pos_tagger = nlp.add_pipe(\"tagger\")\n",
    "\n",
    "taggs=[\"AUX\", \"PUNCT\", \"PROPN\", \"ADJ\", \"ADP\", \"NNS\", \"VERB\", \"PART\", \"DET\", \"NOUN\", \"ADV\",\"CCONJ\", \"PRON\",\"NUM\"]\n",
    "for tag in taggs:\n",
    "    pos_tagger.add_label(tag)"
   ]
  },
  {
   "cell_type": "code",
   "execution_count": 4,
   "metadata": {},
   "outputs": [
    {
     "name": "stderr",
     "output_type": "stream",
     "text": [
      "100%|██████████| 1000/1000 [08:21<00:00,  1.99it/s]\n"
     ]
    }
   ],
   "source": [
    "epochs = 1000\n",
    "\n",
    "# Disable other components to only train the POS tagger.\n",
    "other_pipes = [pipe for pipe in nlp.pipe_names if pipe != 'tagger']\n",
    "\n",
    "with nlp.disable_pipes(*other_pipes):\n",
    "    # Initialize the optimizer for training.\n",
    "    optimizer = nlp.begin_training()\n",
    "\n",
    "    for i in tqdm(range(epochs)):\n",
    "        # Shuffle the training data for randomness.\n",
    "        random.shuffle(TRAIN_DATA)\n",
    "        for text, annotation in TRAIN_DATA:\n",
    "            doc = nlp.make_doc(text)\n",
    "            example = Example.from_dict(doc, {\"tags\": annotation})\n",
    "            nlp.update([example], drop=0.5, losses={})\n"
   ]
  },
  {
   "cell_type": "code",
   "execution_count": 5,
   "metadata": {},
   "outputs": [
    {
     "name": "stdout",
     "output_type": "stream",
     "text": [
      "I PRON\n",
      "saw ADP\n",
      "a DET\n",
      "group NOUN\n",
      "of ADP\n",
      "penguins NNS\n",
      "waddling VERB\n",
      "on ADP\n",
      "the DET\n",
      "ice NOUN\n"
     ]
    }
   ],
   "source": [
    "# Test the trained POS tagger on a sample text.\n",
    "doc = nlp(\"I saw a group of penguins waddling on the ice\")\n",
    "for token in doc:\n",
    "    print(token.text, token.tag_)"
   ]
  },
  {
   "cell_type": "code",
   "execution_count": 6,
   "metadata": {},
   "outputs": [],
   "source": [
    "nlp.to_disk('nns_nlp')"
   ]
  },
  {
   "cell_type": "code",
   "execution_count": 7,
   "metadata": {},
   "outputs": [],
   "source": [
    "nlp_nns = spacy.load(\"nns_nlp\")"
   ]
  },
  {
   "cell_type": "code",
   "execution_count": 8,
   "metadata": {},
   "outputs": [
    {
     "name": "stdout",
     "output_type": "stream",
     "text": [
      "I PRON\n",
      "saw ADP\n",
      "a DET\n",
      "group NOUN\n",
      "of ADP\n",
      "penguins NNS\n",
      "waddling VERB\n",
      "on ADP\n",
      "the DET\n",
      "ice NOUN\n"
     ]
    }
   ],
   "source": [
    "# Test the trained POS tagger on a sample text.\n",
    "doc = nlp_nns(\"I saw a group of penguins waddling on the ice\")\n",
    "for token in doc:\n",
    "    print(token.text, token.tag_)"
   ]
  }
 ],
 "metadata": {
  "kernelspec": {
   "display_name": "Python 3",
   "language": "python",
   "name": "python3"
  },
  "language_info": {
   "codemirror_mode": {
    "name": "ipython",
    "version": 3
   },
   "file_extension": ".py",
   "mimetype": "text/x-python",
   "name": "python",
   "nbconvert_exporter": "python",
   "pygments_lexer": "ipython3",
   "version": "3.9.7"
  },
  "orig_nbformat": 4
 },
 "nbformat": 4,
 "nbformat_minor": 2
}
