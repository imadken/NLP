{
 "cells": [
  {
   "cell_type": "code",
   "execution_count": 7,
   "metadata": {},
   "outputs": [],
   "source": [
    "import spacy\n",
    "nlp = spacy.load(\"en_core_web_sm\")\n",
    "\n",
    "import gensim\n"
   ]
  },
  {
   "cell_type": "code",
   "execution_count": 28,
   "metadata": {},
   "outputs": [],
   "source": [
    "\n",
    "documents = [u\"Football club Arsenal defeat local rivals this weekend.\",\n",
    "u\"Weekend football frenzy takes over London.\", \n",
    "u\"Bank open for takeover bids after losing millions.\", \n",
    "u\"London football clubs bid to move to Wembley stadium.\", \n",
    "u\"Arsenal bid 50 million pounds for striker Kane.\",\n",
    "u\"Financial troubles result in loss of millions for bank.\", \n",
    "u\"Western bank files for bankruptcy after financial losses.\", \n",
    "u\"London football club is taken over by oil millionaire from Russia.\", \n",
    "u\"Banking on finances not working for Russia.\"]"
   ]
  },
  {
   "cell_type": "code",
   "execution_count": 29,
   "metadata": {},
   "outputs": [
    {
     "name": "stdout",
     "output_type": "stream",
     "text": [
      "[['football', 'club', 'Arsenal', 'defeat', 'local', 'rival', 'weekend'], ['weekend', 'football', 'frenzy', 'take', 'London'], ['bank', 'open', 'takeover', 'bid', 'lose', 'million'], ['London', 'football', 'club', 'bid', 'Wembley', 'stadium'], ['arsenal', 'bid', 'pound', 'striker', 'Kane'], ['financial', 'trouble', 'result', 'loss', 'million', 'bank'], ['western', 'bank', 'file', 'bankruptcy', 'financial', 'loss'], ['London', 'football', 'club', 'take', 'oil', 'millionaire', 'Russia'], ['banking', 'finance', 'work', 'Russia']]\n"
     ]
    }
   ],
   "source": [
    "texts = []\n",
    "for document in documents:\n",
    "    text = []\n",
    "    doc = nlp(document)\n",
    "    for w in doc:\n",
    "            if not w.is_stop and not w.is_punct and not w.like_num:\n",
    "               text.append(w.lemma_)\n",
    "    texts.append(text)\n",
    "print(texts)"
   ]
  },
  {
   "cell_type": "code",
   "execution_count": 30,
   "metadata": {},
   "outputs": [
    {
     "data": {
      "text/plain": [
       "{'Arsenal': 0,\n",
       " 'club': 1,\n",
       " 'defeat': 2,\n",
       " 'football': 3,\n",
       " 'local': 4,\n",
       " 'rival': 5,\n",
       " 'weekend': 6,\n",
       " 'London': 7,\n",
       " 'frenzy': 8,\n",
       " 'take': 9,\n",
       " 'bank': 10,\n",
       " 'bid': 11,\n",
       " 'lose': 12,\n",
       " 'million': 13,\n",
       " 'open': 14,\n",
       " 'takeover': 15,\n",
       " 'Wembley': 16,\n",
       " 'stadium': 17,\n",
       " 'Kane': 18,\n",
       " 'arsenal': 19,\n",
       " 'pound': 20,\n",
       " 'striker': 21,\n",
       " 'financial': 22,\n",
       " 'loss': 23,\n",
       " 'result': 24,\n",
       " 'trouble': 25,\n",
       " 'bankruptcy': 26,\n",
       " 'file': 27,\n",
       " 'western': 28,\n",
       " 'Russia': 29,\n",
       " 'millionaire': 30,\n",
       " 'oil': 31,\n",
       " 'banking': 32,\n",
       " 'finance': 33,\n",
       " 'work': 34}"
      ]
     },
     "execution_count": 30,
     "metadata": {},
     "output_type": "execute_result"
    }
   ],
   "source": [
    "dictionary = gensim.corpora.Dictionary(texts)\n",
    "dictionary.token2id"
   ]
  },
  {
   "cell_type": "code",
   "execution_count": 31,
   "metadata": {},
   "outputs": [
    {
     "data": {
      "text/plain": [
       "[[(0, 1), (1, 1), (2, 1), (3, 1), (4, 1), (5, 1), (6, 1)],\n",
       " [(3, 1), (6, 1), (7, 1), (8, 1), (9, 1)],\n",
       " [(10, 1), (11, 1), (12, 1), (13, 1), (14, 1), (15, 1)],\n",
       " [(1, 1), (3, 1), (7, 1), (11, 1), (16, 1), (17, 1)],\n",
       " [(11, 1), (18, 1), (19, 1), (20, 1), (21, 1)],\n",
       " [(10, 1), (13, 1), (22, 1), (23, 1), (24, 1), (25, 1)],\n",
       " [(10, 1), (22, 1), (23, 1), (26, 1), (27, 1), (28, 1)],\n",
       " [(1, 1), (3, 1), (7, 1), (9, 1), (29, 1), (30, 1), (31, 1)],\n",
       " [(29, 1), (32, 1), (33, 1), (34, 1)]]"
      ]
     },
     "execution_count": 31,
     "metadata": {},
     "output_type": "execute_result"
    }
   ],
   "source": [
    "corpus = [dictionary.doc2bow(text) for text in texts]\n",
    "corpus"
   ]
  },
  {
   "cell_type": "code",
   "execution_count": 32,
   "metadata": {},
   "outputs": [
    {
     "name": "stdout",
     "output_type": "stream",
     "text": [
      "[(0, 0.4538520228951382), (1, 0.2269260114475691), (2, 0.4538520228951382), (3, 0.16750327793200118), (4, 0.4538520228951382), (5, 0.4538520228951382), (6, 0.3106776504135697)]\n",
      "[(3, 0.24212967666975266), (6, 0.4490913847888623), (7, 0.32802654645398593), (8, 0.6560530929079719), (9, 0.4490913847888623)]\n",
      "[(10, 0.25098743403237606), (11, 0.25098743403237606), (12, 0.5019748680647521), (13, 0.3436194281611727), (14, 0.5019748680647521), (15, 0.5019748680647521)]\n",
      "[(1, 0.29431054749542984), (3, 0.21724253258131512), (7, 0.29431054749542984), (11, 0.29431054749542984), (16, 0.5886210949908597), (17, 0.5886210949908597)]\n",
      "[(11, 0.24253562503633297), (18, 0.48507125007266594), (19, 0.48507125007266594), (20, 0.48507125007266594), (21, 0.48507125007266594)]\n",
      "[(10, 0.2615055248879333), (13, 0.35801943340074827), (22, 0.35801943340074827), (23, 0.35801943340074827), (24, 0.5230110497758667), (25, 0.5230110497758667)]\n",
      "[(10, 0.24434832234965204), (22, 0.33453001789363906), (23, 0.33453001789363906), (26, 0.4886966446993041), (27, 0.4886966446993041), (28, 0.4886966446993041)]\n",
      "[(1, 0.2645025265769199), (3, 0.1952400253294319), (7, 0.2645025265769199), (9, 0.3621225392416359), (29, 0.3621225392416359), (30, 0.5290050531538398), (31, 0.5290050531538398)]\n",
      "[(29, 0.3675524795645158), (32, 0.5369373566087501), (33, 0.5369373566087501), (34, 0.5369373566087501)]\n"
     ]
    }
   ],
   "source": [
    "from gensim import models\n",
    "tfidf = models.TfidfModel(corpus)\n",
    "\n",
    "for document in tfidf[corpus]:\n",
    "    print(document)\n"
   ]
  },
  {
   "cell_type": "code",
   "execution_count": 33,
   "metadata": {},
   "outputs": [
    {
     "name": "stdout",
     "output_type": "stream",
     "text": [
      "Phrases<75 vocab, min_count=5, threshold=10.0, max_vocab_size=40000000>\n"
     ]
    }
   ],
   "source": [
    "bigram = gensim.models.Phrases(texts)\n",
    "print(bigram)"
   ]
  },
  {
   "cell_type": "code",
   "execution_count": 34,
   "metadata": {},
   "outputs": [
    {
     "data": {
      "text/plain": [
       "[['football', 'club', 'Arsenal', 'defeat', 'local', 'rival', 'weekend'],\n",
       " ['weekend', 'football', 'frenzy', 'take', 'London'],\n",
       " ['bank', 'open', 'takeover', 'bid', 'lose', 'million'],\n",
       " ['London', 'football', 'club', 'bid', 'Wembley', 'stadium'],\n",
       " ['arsenal', 'bid', 'pound', 'striker', 'Kane'],\n",
       " ['financial', 'trouble', 'result', 'loss', 'million', 'bank'],\n",
       " ['western', 'bank', 'file', 'bankruptcy', 'financial', 'loss'],\n",
       " ['London', 'football', 'club', 'take', 'oil', 'millionaire', 'Russia'],\n",
       " ['banking', 'finance', 'work', 'Russia']]"
      ]
     },
     "execution_count": 34,
     "metadata": {},
     "output_type": "execute_result"
    }
   ],
   "source": [
    "texts = [bigram[line] for line in texts]\n",
    "texts"
   ]
  },
  {
   "cell_type": "code",
   "execution_count": 35,
   "metadata": {},
   "outputs": [
    {
     "data": {
      "text/plain": [
       "[[(0, 1), (1, 1), (2, 1), (3, 1), (4, 1), (5, 1), (6, 1)],\n",
       " [(3, 1), (6, 1), (7, 1), (8, 1), (9, 1)],\n",
       " [(10, 1), (11, 1), (12, 1), (13, 1), (14, 1), (15, 1)],\n",
       " [(1, 1), (3, 1), (7, 1), (11, 1), (16, 1), (17, 1)],\n",
       " [(11, 1), (18, 1), (19, 1), (20, 1), (21, 1)],\n",
       " [(10, 1), (13, 1), (22, 1), (23, 1), (24, 1), (25, 1)],\n",
       " [(10, 1), (22, 1), (23, 1), (26, 1), (27, 1), (28, 1)],\n",
       " [(1, 1), (3, 1), (7, 1), (9, 1), (29, 1), (30, 1), (31, 1)],\n",
       " [(29, 1), (32, 1), (33, 1), (34, 1)]]"
      ]
     },
     "execution_count": 35,
     "metadata": {},
     "output_type": "execute_result"
    }
   ],
   "source": [
    "dictionary = gensim.corpora.Dictionary(texts)\n",
    "corpus = [dictionary.doc2bow(text) for text in texts]\n",
    "corpus\n"
   ]
  }
 ],
 "metadata": {
  "kernelspec": {
   "display_name": "Python 3",
   "language": "python",
   "name": "python3"
  },
  "language_info": {
   "codemirror_mode": {
    "name": "ipython",
    "version": 3
   },
   "file_extension": ".py",
   "mimetype": "text/x-python",
   "name": "python",
   "nbconvert_exporter": "python",
   "pygments_lexer": "ipython3",
   "version": "3.9.1"
  }
 },
 "nbformat": 4,
 "nbformat_minor": 2
}
